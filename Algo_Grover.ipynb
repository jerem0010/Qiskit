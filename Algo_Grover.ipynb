{
 "cells": [
  {
   "cell_type": "markdown",
   "id": "c56a1462-f613-44c9-8eb1-5aa8b4f5ce45",
   "metadata": {},
   "source": [
    "En informatique quantique, l’algorithme de Grover est un algorithme de recherche, permettant de rechercher un ou plusieurs éléments qui répondent à un critère donné parmi \n",
    "�\n",
    "N éléments non classés en temps proportionnel à \n",
    "�\n",
    "{\\sqrt  {N}} et avec un espace de stockage proportionnel à \n",
    "log\n",
    "⁡\n",
    "(\n",
    "�\n",
    ")\n",
    "\\log(N). Il a été découvert par Lov Grover en 19961."
   ]
  },
  {
   "cell_type": "markdown",
   "id": "e1156486-5289-4fbf-9b69-704b2fb826a9",
   "metadata": {},
   "source": [
    "En calcul quantique, l'information est codée par des qbits, qui possèdent comme tout objet quantique la particularité de pouvoir être simultanément dans deux états différents notés \n",
    "|\n",
    "0\n",
    "⟩\n",
    "\\left| 0 \\right\\rangle et \n",
    "|\n",
    "1\n",
    "⟩\n",
    "\\left| 1 \\right\\rangle3. Cet état superposé est un vecteur, combinaison linéaire des deux états \n",
    "�\n",
    "⋅\n",
    "|\n",
    "0\n",
    "⟩\n",
    "+\n",
    "�\n",
    "⋅\n",
    "|\n",
    "1\n",
    "⟩\n",
    "\\alpha \\cdot \\left| 0 \\right\\rangle + \\beta \\cdot \\left| 1 \\right\\rangle, \n",
    "�\\alpha  et \n",
    "�\\beta  étant deux scalaires complexes.\n",
    "\n",
    "Un ensemble de \n",
    "�\n",
    "N qbits chacun dans un état superposé forme globalement une superposition de \n",
    "2\n",
    "�\n",
    "2^{N} états :"
   ]
  },
  {
   "cell_type": "markdown",
   "id": "30c0a3d1-c9c9-4520-84c9-4f7600c3e184",
   "metadata": {
    "tags": []
   },
   "source": [
    "c_{1}\\cdot \\left|000..00\\right\\rangle +c_{2}\\cdot \\left|000..01\\right\\rangle +c_{3}\\cdot \\left|000..10\\right\\rangle +..+c_{{2^{N}}}\\cdot \\left|111..11\\right\\rangle . Ce vecteur est normé, de sorte que \n",
    "∑\n",
    "�\n",
    "=\n",
    "1\n",
    "2\n",
    "�\n",
    "|\n",
    "�\n",
    "�\n",
    "|\n",
    "2\n",
    "=\n",
    "1\n",
    "\\sum _{{i=1}}^{{2^{N}}}{|c_{i}|}^{2}=1"
   ]
  }
 ],
 "metadata": {
  "kernelspec": {
   "display_name": "Python 3 (ipykernel)",
   "language": "python",
   "name": "python3"
  },
  "language_info": {
   "codemirror_mode": {
    "name": "ipython",
    "version": 3
   },
   "file_extension": ".py",
   "mimetype": "text/x-python",
   "name": "python",
   "nbconvert_exporter": "python",
   "pygments_lexer": "ipython3",
   "version": "3.11.5"
  }
 },
 "nbformat": 4,
 "nbformat_minor": 5
}
