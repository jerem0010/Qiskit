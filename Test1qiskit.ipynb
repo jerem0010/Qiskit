{
 "cells": [
  {
   "cell_type": "code",
   "execution_count": 2,
   "id": "75fb41ea-9d61-4c9c-83cc-3dc59e7d111c",
   "metadata": {
    "tags": []
   },
   "outputs": [
    {
     "name": "stdout",
     "output_type": "stream",
     "text": [
      "Collecting qiskitNote: you may need to restart the kernel to use updated packages.\n",
      "\n",
      "  Obtaining dependency information for qiskit from https://files.pythonhosted.org/packages/0c/63/b79af770e6978179f96ea14c957e00df5def87e81b0c6a791816e91e96cb/qiskit-0.45.1-py3-none-any.whl.metadata\n",
      "  Downloading qiskit-0.45.1-py3-none-any.whl.metadata (12 kB)\n",
      "Collecting qiskit-terra==0.45.1 (from qiskit)\n",
      "  Obtaining dependency information for qiskit-terra==0.45.1 from https://files.pythonhosted.org/packages/47/8e/a4e8c514bed8b190f322ac950126981c0deb5f62e0a76065edd37e7fdb20/qiskit_terra-0.45.1-cp38-abi3-win_amd64.whl.metadata\n",
      "  Downloading qiskit_terra-0.45.1-cp38-abi3-win_amd64.whl.metadata (12 kB)\n",
      "Collecting rustworkx>=0.13.0 (from qiskit-terra==0.45.1->qiskit)\n",
      "  Obtaining dependency information for rustworkx>=0.13.0 from https://files.pythonhosted.org/packages/87/1a/38643fd8b1e6daad3edc5392ec872901b6e3666bbd860dad259d09379e69/rustworkx-0.13.2-cp311-cp311-win_amd64.whl.metadata\n",
      "  Downloading rustworkx-0.13.2-cp311-cp311-win_amd64.whl.metadata (10 kB)\n",
      "Requirement already satisfied: numpy<2,>=1.17 in c:\\users\\user\\anaconda3\\lib\\site-packages (from qiskit-terra==0.45.1->qiskit) (1.24.3)\n",
      "Requirement already satisfied: ply>=3.10 in c:\\users\\user\\anaconda3\\lib\\site-packages (from qiskit-terra==0.45.1->qiskit) (3.11)\n",
      "Requirement already satisfied: psutil>=5 in c:\\users\\user\\anaconda3\\lib\\site-packages (from qiskit-terra==0.45.1->qiskit) (5.9.0)\n",
      "Requirement already satisfied: scipy>=1.5 in c:\\users\\user\\anaconda3\\lib\\site-packages (from qiskit-terra==0.45.1->qiskit) (1.11.1)\n",
      "Requirement already satisfied: sympy>=1.3 in c:\\users\\user\\anaconda3\\lib\\site-packages (from qiskit-terra==0.45.1->qiskit) (1.11.1)\n",
      "Requirement already satisfied: dill>=0.3 in c:\\users\\user\\anaconda3\\lib\\site-packages (from qiskit-terra==0.45.1->qiskit) (0.3.6)\n",
      "Requirement already satisfied: python-dateutil>=2.8.0 in c:\\users\\user\\anaconda3\\lib\\site-packages (from qiskit-terra==0.45.1->qiskit) (2.8.2)\n",
      "Collecting stevedore>=3.0.0 (from qiskit-terra==0.45.1->qiskit)\n",
      "  Obtaining dependency information for stevedore>=3.0.0 from https://files.pythonhosted.org/packages/4b/68/e739fd061b0aba464bef8e8be48428b2aabbfb3f2f8f2f8ca257363ee6b2/stevedore-5.1.0-py3-none-any.whl.metadata\n",
      "  Downloading stevedore-5.1.0-py3-none-any.whl.metadata (2.2 kB)\n",
      "Requirement already satisfied: six>=1.5 in c:\\users\\user\\anaconda3\\lib\\site-packages (from python-dateutil>=2.8.0->qiskit-terra==0.45.1->qiskit) (1.16.0)\n",
      "Collecting pbr!=2.1.0,>=2.0.0 (from stevedore>=3.0.0->qiskit-terra==0.45.1->qiskit)\n",
      "  Obtaining dependency information for pbr!=2.1.0,>=2.0.0 from https://files.pythonhosted.org/packages/64/dd/171c9fb653591cf265bcc89c436eec75c9bde3dec921cc236fa71e5698df/pbr-6.0.0-py2.py3-none-any.whl.metadata\n",
      "  Downloading pbr-6.0.0-py2.py3-none-any.whl.metadata (1.3 kB)\n",
      "Requirement already satisfied: mpmath>=0.19 in c:\\users\\user\\anaconda3\\lib\\site-packages (from sympy>=1.3->qiskit-terra==0.45.1->qiskit) (1.3.0)\n",
      "Downloading qiskit-0.45.1-py3-none-any.whl (9.6 kB)\n",
      "Downloading qiskit_terra-0.45.1-cp38-abi3-win_amd64.whl (5.1 MB)\n",
      "   ---------------------------------------- 0.0/5.1 MB ? eta -:--:--\n",
      "   -- ------------------------------------- 0.3/5.1 MB 10.6 MB/s eta 0:00:01\n",
      "   ---- ----------------------------------- 0.6/5.1 MB 7.9 MB/s eta 0:00:01\n",
      "   ------- -------------------------------- 0.9/5.1 MB 7.5 MB/s eta 0:00:01\n",
      "   ---------- ----------------------------- 1.4/5.1 MB 7.9 MB/s eta 0:00:01\n",
      "   -------------- ------------------------- 1.8/5.1 MB 8.4 MB/s eta 0:00:01\n",
      "   ----------------- ---------------------- 2.2/5.1 MB 8.4 MB/s eta 0:00:01\n",
      "   --------------------- ------------------ 2.7/5.1 MB 8.7 MB/s eta 0:00:01\n",
      "   ------------------------ --------------- 3.2/5.1 MB 8.8 MB/s eta 0:00:01\n",
      "   ---------------------------- ----------- 3.6/5.1 MB 8.9 MB/s eta 0:00:01\n",
      "   ------------------------------- -------- 4.0/5.1 MB 8.9 MB/s eta 0:00:01\n",
      "   ----------------------------------- ---- 4.6/5.1 MB 9.1 MB/s eta 0:00:01\n",
      "   ---------------------------------------  5.1/5.1 MB 9.2 MB/s eta 0:00:01\n",
      "   ---------------------------------------- 5.1/5.1 MB 8.9 MB/s eta 0:00:00\n",
      "Downloading rustworkx-0.13.2-cp311-cp311-win_amd64.whl (1.4 MB)\n",
      "   ---------------------------------------- 0.0/1.4 MB ? eta -:--:--\n",
      "   ----------- ---------------------------- 0.4/1.4 MB 8.5 MB/s eta 0:00:01\n",
      "   ------------------------ --------------- 0.9/1.4 MB 9.1 MB/s eta 0:00:01\n",
      "   -------------------------------------- - 1.4/1.4 MB 9.7 MB/s eta 0:00:01\n",
      "   ---------------------------------------- 1.4/1.4 MB 9.1 MB/s eta 0:00:00\n",
      "Downloading stevedore-5.1.0-py3-none-any.whl (49 kB)\n",
      "   ---------------------------------------- 0.0/49.6 kB ? eta -:--:--\n",
      "   ---------------------------------------- 49.6/49.6 kB 2.6 MB/s eta 0:00:00\n",
      "Downloading pbr-6.0.0-py2.py3-none-any.whl (107 kB)\n",
      "   ---------------------------------------- 0.0/107.5 kB ? eta -:--:--\n",
      "   ---------------------------------------- 107.5/107.5 kB 3.1 MB/s eta 0:00:00\n",
      "Installing collected packages: rustworkx, pbr, stevedore, qiskit-terra, qiskit\n",
      "Successfully installed pbr-6.0.0 qiskit-0.45.1 qiskit-terra-0.45.1 rustworkx-0.13.2 stevedore-5.1.0\n"
     ]
    }
   ],
   "source": [
    "pip install qiskit"
   ]
  },
  {
   "cell_type": "code",
   "execution_count": null,
   "id": "ade65ec7-77d3-46e1-b03a-9c8bed0d235e",
   "metadata": {},
   "outputs": [],
   "source": [
    "pip ins"
   ]
  },
  {
   "cell_type": "code",
   "execution_count": 1,
   "id": "365567bc-80dc-4a10-83dc-aa70ad12e4fd",
   "metadata": {
    "tags": []
   },
   "outputs": [
    {
     "ename": "ModuleNotFoundError",
     "evalue": "No module named 'qiskit'",
     "output_type": "error",
     "traceback": [
      "\u001b[1;31m---------------------------------------------------------------------------\u001b[0m",
      "\u001b[1;31mModuleNotFoundError\u001b[0m                       Traceback (most recent call last)",
      "Cell \u001b[1;32mIn[1], line 2\u001b[0m\n\u001b[0;32m      1\u001b[0m \u001b[38;5;66;03m# Importing standard Qiskit libraries\u001b[39;00m\n\u001b[1;32m----> 2\u001b[0m \u001b[38;5;28;01mfrom\u001b[39;00m \u001b[38;5;21;01mqiskit\u001b[39;00m \u001b[38;5;28;01mimport\u001b[39;00m QuantumCircuit, transpile\n\u001b[0;32m      3\u001b[0m \u001b[38;5;28;01mfrom\u001b[39;00m \u001b[38;5;21;01mqiskit\u001b[39;00m\u001b[38;5;21;01m.\u001b[39;00m\u001b[38;5;21;01mtools\u001b[39;00m\u001b[38;5;21;01m.\u001b[39;00m\u001b[38;5;21;01mjupyter\u001b[39;00m \u001b[38;5;28;01mimport\u001b[39;00m \u001b[38;5;241m*\u001b[39m\n\u001b[0;32m      4\u001b[0m \u001b[38;5;28;01mfrom\u001b[39;00m \u001b[38;5;21;01mqiskit\u001b[39;00m\u001b[38;5;21;01m.\u001b[39;00m\u001b[38;5;21;01mvisualization\u001b[39;00m \u001b[38;5;28;01mimport\u001b[39;00m \u001b[38;5;241m*\u001b[39m\n",
      "\u001b[1;31mModuleNotFoundError\u001b[0m: No module named 'qiskit'"
     ]
    }
   ],
   "source": [
    "# Importing standard Qiskit libraries\n",
    "from qiskit import QuantumCircuit, transpile\n",
    "from qiskit.tools.jupyter import *\n",
    "from qiskit.visualization import *\n",
    "from ibm_quantum_widgets import *\n",
    "\n",
    "# qiskit-ibmq-provider has been deprecated.\n",
    "# Please see the Migration Guides in https://ibm.biz/provider_migration_guide for more detail.\n",
    "from qiskit_ibm_runtime import QiskitRuntimeService, Sampler, Estimator, Session, Options\n",
    "\n",
    "# Loading your IBM Quantum account(s)\n",
    "service = QiskitRuntimeService(channel=\"ibm_quantum\")\n",
    "\n",
    "# Invoke a primitive. For more details see https://docs.quantum-computing.ibm.com/run/primitives\n",
    "# result = Sampler().run(circuits).result()"
   ]
  }
 ],
 "metadata": {
  "kernelspec": {
   "display_name": "Python 3 (ipykernel)",
   "language": "python",
   "name": "python3"
  },
  "language_info": {
   "codemirror_mode": {
    "name": "ipython",
    "version": 3
   },
   "file_extension": ".py",
   "mimetype": "text/x-python",
   "name": "python",
   "nbconvert_exporter": "python",
   "pygments_lexer": "ipython3",
   "version": "3.11.5"
  }
 },
 "nbformat": 4,
 "nbformat_minor": 5
}
